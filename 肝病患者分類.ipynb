{
  "nbformat": 4,
  "nbformat_minor": 0,
  "metadata": {
    "colab": {
      "provenance": []
    },
    "kernelspec": {
      "name": "python3",
      "display_name": "Python 3"
    },
    "language_info": {
      "name": "python"
    }
  },
  "cells": [
    {
      "cell_type": "markdown",
      "source": [
        "## 1. 前置動作"
      ],
      "metadata": {
        "id": "fTXNktty9opx"
      }
    },
    {
      "cell_type": "code",
      "execution_count": null,
      "metadata": {
        "colab": {
          "base_uri": "https://localhost:8080/"
        },
        "id": "PC_1WcFCRsPh",
        "outputId": "9bbc1a2f-2926-4730-aca8-8f2848bdfb80"
      },
      "outputs": [
        {
          "output_type": "stream",
          "name": "stdout",
          "text": [
            "/usr/local/lib/python3.7/dist-packages/gdown/cli.py:131: FutureWarning: Option `--id` was deprecated in version 4.3.1 and will be removed in 5.0. You don't need to pass it anymore to use a file ID.\n",
            "  category=FutureWarning,\n",
            "Downloading...\n",
            "From: https://drive.google.com/uc?id=1Y2gYY8XUWgcIA_GbytBuXoRkLlAWxnAF\n",
            "To: /content/project1_indian_liver_patient.zip\n",
            "100% 8.37k/8.37k [00:00<00:00, 7.55MB/s]\n",
            "Archive:  project1_indian_liver_patient.zip\n",
            "  inflating: project1_test.csv       \n",
            "  inflating: project1_train.csv      \n"
          ]
        }
      ],
      "source": [
        "# Download from Google Drive\n",
        "!gdown --id 1Y2gYY8XUWgcIA_GbytBuXoRkLlAWxnAFc\n",
        "\n",
        "!unzip project1_indian_liver_patient.zip\n",
        "# if seeing the message: \"replace project1_test.csv? [y]es, [n]o, [A]ll, [N]one, [r]ename:\"\n",
        "# you may enter \"A\""
      ]
    },
    {
      "cell_type": "code",
      "source": [
        "%matplotlib inline\n",
        "import pandas as pd\n",
        "import numpy as np\n",
        "import matplotlib.pyplot as plt\n",
        "import seaborn as sns\n",
        "import warnings\n",
        "from sklearn.tree import DecisionTreeClassifier\n",
        "from sklearn.model_selection import GridSearchCV\n",
        "from sklearn.model_selection import train_test_split\n",
        "from sklearn.metrics import classification_report\n",
        "from sklearn.ensemble import RandomForestClassifier\n",
        "from sklearn.preprocessing import MinMaxScaler\n",
        "from sklearn.linear_model import LogisticRegression\n",
        "from sklearn.impute import SimpleImputer\n",
        "from sklearn.preprocessing import LabelEncoder, OneHotEncoder\n",
        "from sklearn.utils import resample\n",
        "\n",
        "warnings.filterwarnings('ignore')"
      ],
      "metadata": {
        "id": "VMYFaaJDRyyI"
      },
      "execution_count": null,
      "outputs": []
    },
    {
      "cell_type": "code",
      "source": [
        "df = pd.read_csv('project1_train.csv')\n",
        "df.info()"
      ],
      "metadata": {
        "colab": {
          "base_uri": "https://localhost:8080/"
        },
        "id": "KEKD-eoiR1Vg",
        "outputId": "00091e73-8e4b-4206-eb06-38c26c00edbc"
      },
      "execution_count": null,
      "outputs": [
        {
          "output_type": "stream",
          "name": "stdout",
          "text": [
            "<class 'pandas.core.frame.DataFrame'>\n",
            "RangeIndex: 467 entries, 0 to 466\n",
            "Data columns (total 11 columns):\n",
            " #   Column                      Non-Null Count  Dtype  \n",
            "---  ------                      --------------  -----  \n",
            " 0   Age                         467 non-null    int64  \n",
            " 1   Gender                      467 non-null    object \n",
            " 2   Total_Bilirubin             467 non-null    float64\n",
            " 3   Direct_Bilirubin            467 non-null    float64\n",
            " 4   Alkaline_Phosphotase        467 non-null    int64  \n",
            " 5   Alamine_Aminotransferase    467 non-null    int64  \n",
            " 6   Aspartate_Aminotransferase  467 non-null    int64  \n",
            " 7   Total_Protiens              467 non-null    float64\n",
            " 8   Albumin                     467 non-null    float64\n",
            " 9   Albumin_and_Globulin_Ratio  463 non-null    float64\n",
            " 10  Label                       467 non-null    int64  \n",
            "dtypes: float64(5), int64(5), object(1)\n",
            "memory usage: 40.3+ KB\n"
          ]
        }
      ]
    },
    {
      "cell_type": "markdown",
      "source": [
        "## 2. 圖表分析"
      ],
      "metadata": {
        "id": "9553IKvmrRzw"
      }
    },
    {
      "cell_type": "code",
      "source": [
        "# 畫出熱力圖\n",
        "plt.subplots(figsize=(12, 10))\n",
        "plt.title('Pearson Correlation of Features')\n",
        "sns.heatmap(df.corr(),linewidths=0.25, vmax=1.0, square=True,annot=True)\n",
        "plt.show()\n",
        "\n",
        "new_df = df.drop(['Total_Bilirubin', 'Alamine_Aminotransferase', 'Total_Protiens', 'Albumin_and_Globulin_Ratio', 'Gender', 'Label'], axis = 1)"
      ],
      "metadata": {
        "colab": {
          "base_uri": "https://localhost:8080/",
          "height": 732
        },
        "id": "BxWHqeOFpXhq",
        "outputId": "22921e3d-142e-4a52-9bb0-9b657566b1c2"
      },
      "execution_count": null,
      "outputs": [
        {
          "output_type": "display_data",
          "data": {
            "text/plain": [
              "<Figure size 864x720 with 2 Axes>"
            ],
            "image/png": "[encoded data removed]"
          },
          "metadata": {
            "needs_background": "light"
          }
        }
      ]
    },
    {
      "cell_type": "code",
      "source": [
        "new_df.columns"
      ],
      "metadata": {
        "colab": {
          "base_uri": "https://localhost:8080/"
        },
        "id": "v4VVY3nk1Zlh",
        "outputId": "be101315-1b7c-4ac8-d828-77fab402ca21"
      },
      "execution_count": null,
      "outputs": [
        {
          "output_type": "execute_result",
          "data": {
            "text/plain": [
              "Index(['Age', 'Direct_Bilirubin', 'Alkaline_Phosphotase',\n",
              "       'Aspartate_Aminotransferase', 'Albumin'],\n",
              "      dtype='object')"
            ]
          },
          "metadata": {},
          "execution_count": 47
        }
      ]
    },
    {
      "cell_type": "code",
      "source": [
        "# 查看各資料的偏度和峰度\n",
        "plt.figsize = (10, 30)\n",
        "\n",
        "skewness = round(new_df['Age'].skew(), 2)\n",
        "kurtosis = round(new_df['Age'].kurt(), 2)\n",
        "\n",
        "print('Age 偏度(Skewness):',skewness, '峰度(Kurtosis):',kurtosis)\n",
        "\n",
        "sns.histplot(new_df['Age'], kde = True)\n",
        "plt.show()"
      ],
      "metadata": {
        "colab": {
          "base_uri": "https://localhost:8080/",
          "height": 296
        },
        "id": "wobbe4Q4sHWs",
        "outputId": "f45326c5-852e-4fd7-acb8-07bcbc299680"
      },
      "execution_count": null,
      "outputs": [
        {
          "output_type": "stream",
          "name": "stdout",
          "text": [
            "Age 偏度(Skewness): -0.11 峰度(Kurtosis): -0.57\n"
          ]
        },
        {
          "output_type": "display_data",
          "data": {
            "text/plain": [
              "<Figure size 432x288 with 1 Axes>"
            ],
            "image/png": "[encoded data removed]"
          },
          "metadata": {
            "needs_background": "light"
          }
        }
      ]
    },
    {
      "cell_type": "code",
      "source": [
        "plt.figsize = (10, 30)\n",
        "\n",
        "skewness = round(new_df['Direct_Bilirubin'].skew(), 2)\n",
        "kurtosis = round(new_df['Direct_Bilirubin'].kurt(), 2)\n",
        "\n",
        "print('Direct_Bilirubin 偏度(Skewness):',skewness, '峰度(Kurtosis):',kurtosis)\n",
        "\n",
        "sns.histplot(new_df['Direct_Bilirubin'], kde = True)\n",
        "plt.show()"
      ],
      "metadata": {
        "colab": {
          "base_uri": "https://localhost:8080/",
          "height": 297
        },
        "id": "iON-mppbyaH9",
        "outputId": "457a8923-7a4f-432e-9ccb-4ca3fde0c519"
      },
      "execution_count": null,
      "outputs": [
        {
          "output_type": "stream",
          "name": "stdout",
          "text": [
            "Direct_Bilirubin 偏度(Skewness): 3.17 峰度(Kurtosis): 11.06\n"
          ]
        },
        {
          "output_type": "display_data",
          "data": {
            "text/plain": [
              "<Figure size 432x288 with 1 Axes>"
            ],
            "image/png": "[encoded data removed]"
          },
          "metadata": {
            "needs_background": "light"
          }
        }
      ]
    },
    {
      "cell_type": "code",
      "source": [
        "plt.figsize = (10, 30)\n",
        "\n",
        "skewness = round(new_df['Alkaline_Phosphotase'].skew(), 2)\n",
        "kurtosis = round(new_df['Alkaline_Phosphotase'].kurt(), 2)\n",
        "\n",
        "print('Alkaline_Phosphotase 偏度(Skewness):',skewness, '峰度(Kurtosis):',kurtosis)\n",
        "\n",
        "sns.histplot(new_df['Alkaline_Phosphotase'], kde = True)\n",
        "plt.show()"
      ],
      "metadata": {
        "colab": {
          "base_uri": "https://localhost:8080/",
          "height": 297
        },
        "id": "txSOQVg8ygT4",
        "outputId": "d1dab1ce-760b-4fe3-aa5d-6d571535e3bc"
      },
      "execution_count": null,
      "outputs": [
        {
          "output_type": "stream",
          "name": "stdout",
          "text": [
            "Alkaline_Phosphotase 偏度(Skewness): 3.8 峰度(Kurtosis): 18.36\n"
          ]
        },
        {
          "output_type": "display_data",
          "data": {
            "text/plain": [
              "<Figure size 432x288 with 1 Axes>"
            ],
            "image/png": "[encoded data removed]"
          },
          "metadata": {
            "needs_background": "light"
          }
        }
      ]
    },
    {
      "cell_type": "code",
      "source": [
        "plt.figsize = (10, 30)\n",
        "\n",
        "skewness = round(new_df['Alamine_Aminotransferase'].skew(), 2)\n",
        "kurtosis = round(new_df['Alamine_Aminotransferase'].kurt(), 2)\n",
        "\n",
        "print('Alamine_Aminotransferase 偏度(Skewness):',skewness, '峰度(Kurtosis):',kurtosis)\n",
        "\n",
        "sns.histplot(new_df['Alamine_Aminotransferase'], kde = True)\n",
        "plt.show()"
      ],
      "metadata": {
        "colab": {
          "base_uri": "https://localhost:8080/",
          "height": 297
        },
        "id": "YV_NqywQOsFm",
        "outputId": "1f06afe4-e423-4c84-bbab-677e063aefb2"
      },
      "execution_count": null,
      "outputs": [
        {
          "output_type": "stream",
          "name": "stdout",
          "text": [
            "Alamine_Aminotransferase 偏度(Skewness): 6.96 峰度(Kurtosis): 58.87\n"
          ]
        },
        {
          "output_type": "display_data",
          "data": {
            "text/plain": [
              "<Figure size 432x288 with 1 Axes>"
            ],
            "image/png": "[encoded data removed]"
          },
          "metadata": {
            "needs_background": "light"
          }
        }
      ]
    },
    {
      "cell_type": "code",
      "source": [
        "plt.figsize = (10, 30)\n",
        "\n",
        "skewness = round(new_df['Aspartate_Aminotransferase'].skew(), 2)\n",
        "kurtosis = round(new_df['Aspartate_Aminotransferase'].kurt(), 2)\n",
        "\n",
        "print('Aspartate_Aminotransferase 偏度(Skewness):',skewness, '峰度(Kurtosis):',kurtosis)\n",
        "\n",
        "sns.histplot(new_df['Aspartate_Aminotransferase'], kde = True)\n",
        "plt.show()"
      ],
      "metadata": {
        "colab": {
          "base_uri": "https://localhost:8080/",
          "height": 297
        },
        "id": "LqqCpf0ZylOs",
        "outputId": "f4e3357c-ec38-4244-f0f9-9b1d3b77f01d"
      },
      "execution_count": null,
      "outputs": [
        {
          "output_type": "stream",
          "name": "stdout",
          "text": [
            "Aspartate_Aminotransferase 偏度(Skewness): 10.74 峰度(Kurtosis): 148.68\n"
          ]
        },
        {
          "output_type": "display_data",
          "data": {
            "text/plain": [
              "<Figure size 432x288 with 1 Axes>"
            ],
            "image/png": "[encoded data removed]"
          },
          "metadata": {
            "needs_background": "light"
          }
        }
      ]
    },
    {
      "cell_type": "code",
      "source": [
        "plt.figsize = (10, 30)\n",
        "\n",
        "skewness = round(new_df['Albumin'].skew(), 2)\n",
        "kurtosis = round(new_df['Albumin'].kurt(), 2)\n",
        "\n",
        "print('Albumin 偏度(Skewness):',skewness, '峰度(Kurtosis):',kurtosis)\n",
        "\n",
        "sns.histplot(new_df['Albumin'], kde = True)\n",
        "plt.show()"
      ],
      "metadata": {
        "colab": {
          "base_uri": "https://localhost:8080/",
          "height": 296
        },
        "id": "pITNl7uPynCO",
        "outputId": "56c5baf9-e435-44b0-afc6-4c6a49b6188e"
      },
      "execution_count": null,
      "outputs": [
        {
          "output_type": "stream",
          "name": "stdout",
          "text": [
            "Albumin 偏度(Skewness): -0.01 峰度(Kurtosis): -0.34\n"
          ]
        },
        {
          "output_type": "display_data",
          "data": {
            "text/plain": [
              "<Figure size 432x288 with 1 Axes>"
            ],
            "image/png": "[encoded data removed]"
          },
          "metadata": {
            "needs_background": "light"
          }
        }
      ]
    },
    {
      "cell_type": "markdown",
      "source": [
        "## 3. 前處理"
      ],
      "metadata": {
        "id": "dVYQZNtM8laK"
      }
    },
    {
      "cell_type": "code",
      "source": [
        "#前處理 二號 嘗試調整偏度\n",
        "def pre_processing2(data) :\n",
        "\n",
        "  dropna_Data = data.dropna()\n",
        "  dropna_Data = dropna_Data.reset_index()\n",
        "  dropna_Data = dropna_Data.drop(['index'], axis = 1)\n",
        "\n",
        "  le = LabelEncoder()\n",
        "  gender_to_number = le.fit_transform(dropna_Data['Gender'])\n",
        "  ohe = OneHotEncoder(sparse = False)\n",
        "  gender_reshape = gender_to_number.reshape(len(dropna_Data), 1) \n",
        "  new_gender = ohe.fit_transform(gender_reshape)\n",
        "\n",
        "  mmsc = MinMaxScaler()\n",
        "  alkphos_array = dropna_Data['Alkaline_Phosphotase'].values\n",
        "  alkphos_array_reshape = alkphos_array.reshape(len(dropna_Data), 1)\n",
        "  db_array = dropna_Data['Direct_Bilirubin'].values\n",
        "  db_array_reshape = db_array.reshape(len(dropna_Data), 1)\n",
        "  sgot_array = dropna_Data['Aspartate_Aminotransferase'].values\n",
        "  sgot_array_reshape = sgot_array.reshape(len(dropna_Data), 1)\n",
        "\n",
        "  alkphos_standard = mmsc.fit_transform(alkphos_array_reshape)\n",
        "  db_standard = mmsc.fit_transform(db_array_reshape)\n",
        "  sgot_standard = mmsc.fit_transform(sgot_array_reshape)\n",
        "\n",
        "  new_data = pd.concat([dropna_Data.drop(['Gender', 'Alkaline_Phosphotase', 'Direct_Bilirubin', 'Aspartate_Aminotransferase'], axis = 1), \n",
        "                        pd.DataFrame(new_gender, columns = ['Male_gender', 'Female_gender']),\n",
        "                        pd.DataFrame(alkphos_standard, columns = ['Alkaline_Phosphotase']), \n",
        "                        pd.DataFrame(db_standard, columns = ['Direct_Bilirubin']),\n",
        "                        pd.DataFrame(sgot_standard, columns = ['Aspartate_Aminotransferase'])], axis = 1)\n",
        "  return new_data"
      ],
      "metadata": {
        "id": "DLh6VhhkrCdr"
      },
      "execution_count": null,
      "outputs": []
    },
    {
      "cell_type": "code",
      "source": [
        "dropna_Data = df.dropna()\n",
        "dropna_Data = dropna_Data.reset_index()\n",
        "dropna_Data = dropna_Data.drop(['index'], axis = 1)\n",
        "\n",
        "negative = dropna_Data[dropna_Data.Label==0]\n",
        "positive = dropna_Data[dropna_Data.Label==1]\n",
        "negative_Sample = resample(negative, replace=True, n_samples=positive.shape[0])\n",
        "negative_Sample = negative_Sample.reset_index()\n",
        "negative_Sample = negative_Sample.drop(['index'], axis = 1)\n",
        "dropna_Data = pd.concat([positive, negative_Sample], axis = 0, ignore_index = True)\n",
        "\n",
        "print(negative_Sample.shape)\n",
        "print(positive.shape)\n",
        "\n",
        "dropna_Data"
      ],
      "metadata": {
        "colab": {
          "base_uri": "https://localhost:8080/",
          "height": 104
        },
        "id": "koDDaYos974_",
        "outputId": "c1f4c534-cbfa-49e8-9dfb-f1fadcced4f3"
      },
      "execution_count": null,
      "outputs": [
        {
          "output_type": "stream",
          "name": "stdout",
          "text": [
            "(331, 11)\n",
            "(331, 11)\n"
          ]
        },
        {
          "output_type": "execute_result",
          "data": {
            "text/plain": [
              "     Age  Gender  Total_Bilirubin  Direct_Bilirubin  Alkaline_Phosphotase  \\\n",
              "0     40  Female              0.9               0.3                   293   \n",
              "1     78    Male              1.0               0.3                   152   \n",
              "2     60    Male              2.0               0.8                   190   \n",
              "3     75    Male             10.6               5.0                   562   \n",
              "4     19  Female              0.7               0.2                   186   \n",
              "..   ...     ...              ...               ...                   ...   \n",
              "657   21    Male              1.0               0.3                   142   \n",
              "658   38  Female              0.7               0.1                   152   \n",
              "659   22    Male              0.8               0.2                   300   \n",
              "660   27    Male              1.0               0.3                   180   \n",
              "661   54  Female              1.4               0.7                   195   \n",
              "\n",
              "     Alamine_Aminotransferase  Aspartate_Aminotransferase  Total_Protiens  \\\n",
              "0                         232                         245             6.8   \n",
              "1                          28                          70             6.3   \n",
              "2                          45                          40             6.0   \n",
              "3                          37                          29             5.1   \n",
              "4                         166                         397             5.5   \n",
              "..                        ...                         ...             ...   \n",
              "657                        27                          21             6.4   \n",
              "658                        90                          21             7.1   \n",
              "659                        57                          40             7.9   \n",
              "660                        56                         111             6.8   \n",
              "661                        36                          16             7.9   \n",
              "\n",
              "     Albumin  Albumin_and_Globulin_Ratio  Label  \n",
              "0        3.1                        0.80      1  \n",
              "1        3.1                        0.90      1  \n",
              "2        2.8                        0.80      1  \n",
              "3        1.8                        0.50      1  \n",
              "4        3.0                        1.20      1  \n",
              "..       ...                         ...    ...  \n",
              "657      3.5                        1.20      0  \n",
              "658      4.2                        1.40      0  \n",
              "659      3.8                        0.90      0  \n",
              "660      3.9                        1.85      0  \n",
              "661      3.7                        0.90      0  \n",
              "\n",
              "[662 rows x 11 columns]"
            ],
            "text/html": [
              "\n",
              "  <div id=\"df-0d3002b0-e300-402d-a193-13e201bcee2c\">\n",
              "    <div class=\"colab-df-container\">\n",
              "      <div>\n",
              "<style scoped>\n",
              "    .dataframe tbody tr th:only-of-type {\n",
              "        vertical-align: middle;\n",
              "    }\n",
              "\n",
              "    .dataframe tbody tr th {\n",
              "        vertical-align: top;\n",
              "    }\n",
              "\n",
              "    .dataframe thead th {\n",
              "        text-align: right;\n",
              "    }\n",
              "</style>\n",
              "<table border=\"1\" class=\"dataframe\">\n",
              "  <thead>\n",
              "    <tr style=\"text-align: right;\">\n",
              "      <th></th>\n",
              "      <th>Age</th>\n",
              "      <th>Gender</th>\n",
              "      <th>Total_Bilirubin</th>\n",
              "      <th>Direct_Bilirubin</th>\n",
              "      <th>Alkaline_Phosphotase</th>\n",
              "      <th>Alamine_Aminotransferase</th>\n",
              "      <th>Aspartate_Aminotransferase</th>\n",
              "      <th>Total_Protiens</th>\n",
              "      <th>Albumin</th>\n",
              "      <th>Albumin_and_Globulin_Ratio</th>\n",
              "      <th>Label</th>\n",
              "    </tr>\n",
              "  </thead>\n",
              "  <tbody>\n",
              "    <tr>\n",
              "      <th>0</th>\n",
              "      <td>40</td>\n",
              "      <td>Female</td>\n",
              "      <td>0.9</td>\n",
              "      <td>0.3</td>\n",
              "      <td>293</td>\n",
              "      <td>232</td>\n",
              "      <td>245</td>\n",
              "      <td>6.8</td>\n",
              "      <td>3.1</td>\n",
              "      <td>0.80</td>\n",
              "      <td>1</td>\n",
              "    </tr>\n",
              "    <tr>\n",
              "      <th>1</th>\n",
              "      <td>78</td>\n",
              "      <td>Male</td>\n",
              "      <td>1.0</td>\n",
              "      <td>0.3</td>\n",
              "      <td>152</td>\n",
              "      <td>28</td>\n",
              "      <td>70</td>\n",
              "      <td>6.3</td>\n",
              "      <td>3.1</td>\n",
              "      <td>0.90</td>\n",
              "      <td>1</td>\n",
              "    </tr>\n",
              "    <tr>\n",
              "      <th>2</th>\n",
              "      <td>60</td>\n",
              "      <td>Male</td>\n",
              "      <td>2.0</td>\n",
              "      <td>0.8</td>\n",
              "      <td>190</td>\n",
              "      <td>45</td>\n",
              "      <td>40</td>\n",
              "      <td>6.0</td>\n",
              "      <td>2.8</td>\n",
              "      <td>0.80</td>\n",
              "      <td>1</td>\n",
              "    </tr>\n",
              "    <tr>\n",
              "      <th>3</th>\n",
              "      <td>75</td>\n",
              "      <td>Male</td>\n",
              "      <td>10.6</td>\n",
              "      <td>5.0</td>\n",
              "      <td>562</td>\n",
              "      <td>37</td>\n",
              "      <td>29</td>\n",
              "      <td>5.1</td>\n",
              "      <td>1.8</td>\n",
              "      <td>0.50</td>\n",
              "      <td>1</td>\n",
              "    </tr>\n",
              "    <tr>\n",
              "      <th>4</th>\n",
              "      <td>19</td>\n",
              "      <td>Female</td>\n",
              "      <td>0.7</td>\n",
              "      <td>0.2</td>\n",
              "      <td>186</td>\n",
              "      <td>166</td>\n",
              "      <td>397</td>\n",
              "      <td>5.5</td>\n",
              "      <td>3.0</td>\n",
              "      <td>1.20</td>\n",
              "      <td>1</td>\n",
              "    </tr>\n",
              "    <tr>\n",
              "      <th>...</th>\n",
              "      <td>...</td>\n",
              "      <td>...</td>\n",
              "      <td>...</td>\n",
              "      <td>...</td>\n",
              "      <td>...</td>\n",
              "      <td>...</td>\n",
              "      <td>...</td>\n",
              "      <td>...</td>\n",
              "      <td>...</td>\n",
              "      <td>...</td>\n",
              "      <td>...</td>\n",
              "    </tr>\n",
              "    <tr>\n",
              "      <th>657</th>\n",
              "      <td>21</td>\n",
              "      <td>Male</td>\n",
              "      <td>1.0</td>\n",
              "      <td>0.3</td>\n",
              "      <td>142</td>\n",
              "      <td>27</td>\n",
              "      <td>21</td>\n",
              "      <td>6.4</td>\n",
              "      <td>3.5</td>\n",
              "      <td>1.20</td>\n",
              "      <td>0</td>\n",
              "    </tr>\n",
              "    <tr>\n",
              "      <th>658</th>\n",
              "      <td>38</td>\n",
              "      <td>Female</td>\n",
              "      <td>0.7</td>\n",
              "      <td>0.1</td>\n",
              "      <td>152</td>\n",
              "      <td>90</td>\n",
              "      <td>21</td>\n",
              "      <td>7.1</td>\n",
              "      <td>4.2</td>\n",
              "      <td>1.40</td>\n",
              "      <td>0</td>\n",
              "    </tr>\n",
              "    <tr>\n",
              "      <th>659</th>\n",
              "      <td>22</td>\n",
              "      <td>Male</td>\n",
              "      <td>0.8</td>\n",
              "      <td>0.2</td>\n",
              "      <td>300</td>\n",
              "      <td>57</td>\n",
              "      <td>40</td>\n",
              "      <td>7.9</td>\n",
              "      <td>3.8</td>\n",
              "      <td>0.90</td>\n",
              "      <td>0</td>\n",
              "    </tr>\n",
              "    <tr>\n",
              "      <th>660</th>\n",
              "      <td>27</td>\n",
              "      <td>Male</td>\n",
              "      <td>1.0</td>\n",
              "      <td>0.3</td>\n",
              "      <td>180</td>\n",
              "      <td>56</td>\n",
              "      <td>111</td>\n",
              "      <td>6.8</td>\n",
              "      <td>3.9</td>\n",
              "      <td>1.85</td>\n",
              "      <td>0</td>\n",
              "    </tr>\n",
              "    <tr>\n",
              "      <th>661</th>\n",
              "      <td>54</td>\n",
              "      <td>Female</td>\n",
              "      <td>1.4</td>\n",
              "      <td>0.7</td>\n",
              "      <td>195</td>\n",
              "      <td>36</td>\n",
              "      <td>16</td>\n",
              "      <td>7.9</td>\n",
              "      <td>3.7</td>\n",
              "      <td>0.90</td>\n",
              "      <td>0</td>\n",
              "    </tr>\n",
              "  </tbody>\n",
              "</table>\n",
              "<p>662 rows × 11 columns</p>\n",
              "</div>\n",
              "      <button class=\"colab-df-convert\" onclick=\"convertToInteractive('df-0d3002b0-e300-402d-a193-13e201bcee2c')\"\n",
              "              title=\"Convert this dataframe to an interactive table.\"\n",
              "              style=\"display:none;\">\n",
              "        \n",
              "  <svg xmlns=\"http://www.w3.org/2000/svg\" height=\"24px\"viewBox=\"0 0 24 24\"\n",
              "       width=\"24px\">\n",
              "    <path d=\"M0 0h24v24H0V0z\" fill=\"none\"/>\n",
              "    <path d=\"M18.56 5.44l.94 2.06.94-2.06 2.06-.94-2.06-.94-.94-2.06-.94 2.06-2.06.94zm-11 1L8.5 8.5l.94-2.06 2.06-.94-2.06-.94L8.5 2.5l-.94 2.06-2.06.94zm10 10l.94 2.06.94-2.06 2.06-.94-2.06-.94-.94-2.06-.94 2.06-2.06.94z\"/><path d=\"M17.41 7.96l-1.37-1.37c-.4-.4-.92-.59-1.43-.59-.52 0-1.04.2-1.43.59L10.3 9.45l-7.72 7.72c-.78.78-.78 2.05 0 2.83L4 21.41c.39.39.9.59 1.41.59.51 0 1.02-.2 1.41-.59l7.78-7.78 2.81-2.81c.8-.78.8-2.07 0-2.86zM5.41 20L4 18.59l7.72-7.72 1.47 1.35L5.41 20z\"/>\n",
              "  </svg>\n",
              "      </button>\n",
              "      \n",
              "  <style>\n",
              "    .colab-df-container {\n",
              "      display:flex;\n",
              "      flex-wrap:wrap;\n",
              "      gap: 12px;\n",
              "    }\n",
              "\n",
              "    .colab-df-convert {\n",
              "      background-color: #E8F0FE;\n",
              "      border: none;\n",
              "      border-radius: 50%;\n",
              "      cursor: pointer;\n",
              "      display: none;\n",
              "      fill: #1967D2;\n",
              "      height: 32px;\n",
              "      padding: 0 0 0 0;\n",
              "      width: 32px;\n",
              "    }\n",
              "\n",
              "    .colab-df-convert:hover {\n",
              "      background-color: #E2EBFA;\n",
              "      box-shadow: 0px 1px 2px rgba(60, 64, 67, 0.3), 0px 1px 3px 1px rgba(60, 64, 67, 0.15);\n",
              "      fill: #174EA6;\n",
              "    }\n",
              "\n",
              "    [theme=dark] .colab-df-convert {\n",
              "      background-color: #3B4455;\n",
              "      fill: #D2E3FC;\n",
              "    }\n",
              "\n",
              "    [theme=dark] .colab-df-convert:hover {\n",
              "      background-color: #434B5C;\n",
              "      box-shadow: 0px 1px 3px 1px rgba(0, 0, 0, 0.15);\n",
              "      filter: drop-shadow(0px 1px 2px rgba(0, 0, 0, 0.3));\n",
              "      fill: #FFFFFF;\n",
              "    }\n",
              "  </style>\n",
              "\n",
              "      <script>\n",
              "        const buttonEl =\n",
              "          document.querySelector('#df-0d3002b0-e300-402d-a193-13e201bcee2c button.colab-df-convert');\n",
              "        buttonEl.style.display =\n",
              "          google.colab.kernel.accessAllowed ? 'block' : 'none';\n",
              "\n",
              "        async function convertToInteractive(key) {\n",
              "          const element = document.querySelector('#df-0d3002b0-e300-402d-a193-13e201bcee2c');\n",
              "          const dataTable =\n",
              "            await google.colab.kernel.invokeFunction('convertToInteractive',\n",
              "                                                     [key], {});\n",
              "          if (!dataTable) return;\n",
              "\n",
              "          const docLinkHtml = 'Like what you see? Visit the ' +\n",
              "            '<a target=\"_blank\" href=https://colab.research.google.com/notebooks/data_table.ipynb>data table notebook</a>'\n",
              "            + ' to learn more about interactive tables.';\n",
              "          element.innerHTML = '';\n",
              "          dataTable['output_type'] = 'display_data';\n",
              "          await google.colab.output.renderOutput(dataTable, element);\n",
              "          const docLink = document.createElement('div');\n",
              "          docLink.innerHTML = docLinkHtml;\n",
              "          element.appendChild(docLink);\n",
              "        }\n",
              "      </script>\n",
              "    </div>\n",
              "  </div>\n",
              "  "
            ]
          },
          "metadata": {},
          "execution_count": 102
        },
        {
          "output_type": "stream",
          "name": "stdout",
          "text": [
            "Error: Runtime no longer has a reference to this dataframe, please re-run this cell and try again.\n"
          ]
        }
      ]
    },
    {
      "cell_type": "code",
      "source": [
        "#前處理(將字串轉為數字，以利機器進行訓練測試) 三號 重新採樣 舊方法\n",
        "def pre_processing3(data):\n",
        "\n",
        "  dropna_Data = data.dropna()\n",
        "  dropna_Data = dropna_Data.reset_index()\n",
        "  dropna_Data = dropna_Data.drop(['index'], axis = 1)\n",
        "\n",
        "  negative = dropna_Data[dropna_Data.Label==0]\n",
        "  positive = dropna_Data[dropna_Data.Label==1]\n",
        "  negative_Sample = resample(negative, replace=True, n_samples=positive.shape[0])\n",
        "  negative_Sample = negative_Sample.reset_index()\n",
        "  negative_Sample = negative_Sample.drop(['index'], axis = 1)\n",
        "  dropna_Data = pd.concat([positive, negative_Sample], axis = 0, ignore_index = True)\n",
        "\n",
        "  le = LabelEncoder()\n",
        "  gender_to_number = le.fit_transform(dropna_Data['Gender'])\n",
        "  ohe = OneHotEncoder(sparse = False)\n",
        "  gender_reshape = gender_to_number.reshape(len(dropna_Data), 1) \n",
        "  new_gender = ohe.fit_transform(gender_reshape)\n",
        "\n",
        "  mmsc = MinMaxScaler()\n",
        "  alkphos_array = dropna_Data['Alkaline_Phosphotase'].values\n",
        "  alkphos_array_reshape = alkphos_array.reshape(len(dropna_Data), 1)\n",
        "  sgpt_array = dropna_Data['Alamine_Aminotransferase'].values\n",
        "  sgpt_array_reshape = sgpt_array.reshape(len(dropna_Data), 1)\n",
        "  sgot_array = dropna_Data['Aspartate_Aminotransferase'].values\n",
        "  sgot_array_reshape = sgot_array.reshape(len(dropna_Data), 1)\n",
        "\n",
        "  alkphos_standard = mmsc.fit_transform(alkphos_array_reshape)\n",
        "  sgpt_standard = mmsc.fit_transform(sgpt_array_reshape)\n",
        "  sgot_standard = mmsc.fit_transform(sgot_array_reshape)\n",
        "\n",
        "  new_data = pd.concat([dropna_Data.drop(['Gender', 'Alkaline_Phosphotase', 'Alamine_Aminotransferase', 'Aspartate_Aminotransferase'], axis = 1), \n",
        "                        pd.DataFrame(new_gender, columns = ['Male_gender', 'Female_gender']),\n",
        "                        pd.DataFrame(alkphos_standard, columns = ['Alkaline_Phosphotase']), \n",
        "                        pd.DataFrame(sgpt_standard, columns = ['Alamine_Aminotransferase']),\n",
        "                        pd.DataFrame(sgot_standard, columns = ['Aspartate_Aminotransferase'])], axis = 1)\n",
        "  return new_data\n",
        "\n",
        "def pre_processing4(data):\n",
        "\n",
        "  dropna_Data = data.dropna()\n",
        "  dropna_Data = dropna_Data.reset_index()\n",
        "  dropna_Data = dropna_Data.drop(['index'], axis = 1) \n",
        "\n",
        "  le = LabelEncoder()\n",
        "  gender_to_number = le.fit_transform(dropna_Data['Gender'])\n",
        "  ohe = OneHotEncoder(sparse = False)\n",
        "  gender_reshape = gender_to_number.reshape(len(dropna_Data), 1) \n",
        "  new_gender = ohe.fit_transform(gender_reshape)\n",
        "\n",
        "  mmsc = MinMaxScaler()\n",
        "  alkphos_array = dropna_Data['Alkaline_Phosphotase'].values\n",
        "  alkphos_array_reshape = alkphos_array.reshape(len(dropna_Data), 1)\n",
        "  sgpt_array = dropna_Data['Alamine_Aminotransferase'].values\n",
        "  sgpt_array_reshape = sgpt_array.reshape(len(dropna_Data), 1)\n",
        "  sgot_array = dropna_Data['Aspartate_Aminotransferase'].values\n",
        "  sgot_array_reshape = sgot_array.reshape(len(dropna_Data), 1)\n",
        "\n",
        "  alkphos_standard = mmsc.fit_transform(alkphos_array_reshape)\n",
        "  sgpt_standard = mmsc.fit_transform(sgpt_array_reshape)\n",
        "  sgot_standard = mmsc.fit_transform(sgot_array_reshape)\n",
        "\n",
        "  new_data = pd.concat([dropna_Data.drop(['Gender', 'Alkaline_Phosphotase', 'Alamine_Aminotransferase', 'Aspartate_Aminotransferase'], axis = 1), \n",
        "                        pd.DataFrame(new_gender, columns = ['Male_gender', 'Female_gender']),\n",
        "                        pd.DataFrame(alkphos_standard, columns = ['Alkaline_Phosphotase']), \n",
        "                        pd.DataFrame(sgpt_standard, columns = ['Alamine_Aminotransferase']),\n",
        "                        pd.DataFrame(sgot_standard, columns = ['Aspartate_Aminotransferase'])], axis = 1)\n",
        "  return new_data"
      ],
      "metadata": {
        "id": "lxLmp-IB9qDp"
      },
      "execution_count": null,
      "outputs": []
    },
    {
      "cell_type": "code",
      "source": [
        "#前處理(將字串轉為數字，以利機器進行訓練測試) 三號 重新採樣 新方法\n",
        "def pre_processing3(data):\n",
        "\n",
        "  dropna_Data = data.dropna()\n",
        "  dropna_Data = dropna_Data.reset_index()\n",
        "  dropna_Data = dropna_Data.drop(['index'], axis = 1)\n",
        "\n",
        "  negative = dropna_Data[dropna_Data.Label==0]\n",
        "  positive = dropna_Data[dropna_Data.Label==1]\n",
        "  negative_Sample = resample(negative, replace=True, n_samples=positive.shape[0])\n",
        "  negative_Sample = negative_Sample.reset_index()\n",
        "  negative_Sample = negative_Sample.drop(['index'], axis = 1)\n",
        "  dropna_Data = pd.concat([positive, negative_Sample], axis = 0, ignore_index = True)\n",
        "\n",
        "  le = LabelEncoder()\n",
        "  gender_to_number = le.fit_transform(dropna_Data['Gender'])\n",
        "  ohe = OneHotEncoder(sparse = False)\n",
        "  gender_reshape = gender_to_number.reshape(len(dropna_Data), 1) \n",
        "  new_gender = ohe.fit_transform(gender_reshape)\n",
        "\n",
        "  mmsc = MinMaxScaler()\n",
        "  alkphos_array = dropna_Data['Alkaline_Phosphotase'].values\n",
        "  alkphos_array_reshape = alkphos_array.reshape(len(dropna_Data), 1)\n",
        "  sgpt_array = dropna_Data['Alamine_Aminotransferase'].values\n",
        "  sgpt_array_reshape = sgpt_array.reshape(len(dropna_Data), 1)\n",
        "  sgot_array = dropna_Data['Aspartate_Aminotransferase'].values\n",
        "  sgot_array_reshape = sgot_array.reshape(len(dropna_Data), 1)\n",
        "\n",
        "  alkphos_standard = mmsc.fit_transform(alkphos_array_reshape)\n",
        "  sgpt_standard = mmsc.fit_transform(sgpt_array_reshape)\n",
        "  sgot_standard = mmsc.fit_transform(sgot_array_reshape)\n",
        "\n",
        "  new_data = pd.concat([dropna_Data.drop(['Gender', 'Alkaline_Phosphotase', 'Alamine_Aminotransferase', 'Aspartate_Aminotransferase'], axis = 1), \n",
        "                        pd.DataFrame(new_gender, columns = ['Male_gender', 'Female_gender']),\n",
        "                        pd.DataFrame(alkphos_standard, columns = ['Alkaline_Phosphotase']), \n",
        "                        pd.DataFrame(sgpt_standard, columns = ['Alamine_Aminotransferase']),\n",
        "                        pd.DataFrame(sgot_standard, columns = ['Aspartate_Aminotransferase'])], axis = 1)\n",
        "  return new_data\n",
        "\n",
        "def pre_processing4(data):\n",
        "\n",
        "  dropna_Data = data.dropna()\n",
        "  dropna_Data = dropna_Data.reset_index()\n",
        "  dropna_Data = dropna_Data.drop(['index'], axis = 1) \n",
        "\n",
        "  le = LabelEncoder()\n",
        "  gender_to_number = le.fit_transform(dropna_Data['Gender'])\n",
        "  ohe = OneHotEncoder(sparse = False)\n",
        "  gender_reshape = gender_to_number.reshape(len(dropna_Data), 1) \n",
        "  new_gender = ohe.fit_transform(gender_reshape)\n",
        "\n",
        "  mmsc = MinMaxScaler()\n",
        "  alkphos_array = dropna_Data['Alkaline_Phosphotase'].values\n",
        "  alkphos_array_reshape = alkphos_array.reshape(len(dropna_Data), 1)\n",
        "  sgpt_array = dropna_Data['Alamine_Aminotransferase'].values\n",
        "  sgpt_array_reshape = sgpt_array.reshape(len(dropna_Data), 1)\n",
        "  sgot_array = dropna_Data['Aspartate_Aminotransferase'].values\n",
        "  sgot_array_reshape = sgot_array.reshape(len(dropna_Data), 1)\n",
        "\n",
        "  alkphos_standard = mmsc.fit_transform(alkphos_array_reshape)\n",
        "  sgpt_standard = mmsc.fit_transform(sgpt_array_reshape)\n",
        "  sgot_standard = mmsc.fit_transform(sgot_array_reshape)\n",
        "\n",
        "  new_data = pd.concat([dropna_Data.drop(['Gender', 'Alkaline_Phosphotase', 'Alamine_Aminotransferase', 'Aspartate_Aminotransferase'], axis = 1), \n",
        "                        pd.DataFrame(new_gender, columns = ['Male_gender', 'Female_gender']),\n",
        "                        pd.DataFrame(alkphos_standard, columns = ['Alkaline_Phosphotase']), \n",
        "                        pd.DataFrame(sgpt_standard, columns = ['Alamine_Aminotransferase']),\n",
        "                        pd.DataFrame(sgot_standard, columns = ['Aspartate_Aminotransferase'])], axis = 1)\n",
        "  return new_data"
      ],
      "metadata": {
        "id": "jQkWRbDKkgOU"
      },
      "execution_count": null,
      "outputs": []
    },
    {
      "cell_type": "code",
      "source": [
        "#前處理並且將其包裝成函式，這樣要處理資料直接帶入函式就好，不必再將整個前處理程式碼複製過去(主要採納的前處理)\n",
        "def pre_processing(data) :\n",
        "\n",
        "  #將缺失值丟去\n",
        "  dropna_Data = data.dropna()\n",
        "  dropna_Data = dropna_Data.reset_index()\n",
        "  dropna_Data = dropna_Data.drop(['index'], axis = 1)\n",
        "\n",
        "  #將 Gender 轉換乘數字，以利機器去做學習\n",
        "  le = LabelEncoder()\n",
        "  gender_to_number = le.fit_transform(dropna_Data['Gender'])\n",
        "  ohe = OneHotEncoder(sparse = False)\n",
        "  gender_reshape = gender_to_number.reshape(len(dropna_Data), 1) \n",
        "  new_gender = ohe.fit_transform(gender_reshape)\n",
        "\n",
        "  #把數字範圍很大的欄位做最小最大標準化處理\n",
        "  mmsc = MinMaxScaler()\n",
        "  alkphos_array = dropna_Data['Alkaline_Phosphotase'].values\n",
        "  alkphos_array_reshape = alkphos_array.reshape(len(dropna_Data), 1)\n",
        "  sgpt_array = dropna_Data['Alamine_Aminotransferase'].values\n",
        "  sgpt_array_reshape = sgpt_array.reshape(len(dropna_Data), 1)\n",
        "  sgot_array = dropna_Data['Aspartate_Aminotransferase'].values\n",
        "  sgot_array_reshape = sgot_array.reshape(len(dropna_Data), 1)\n",
        "\n",
        "  alkphos_standard = mmsc.fit_transform(alkphos_array_reshape)\n",
        "  sgpt_standard = mmsc.fit_transform(sgpt_array_reshape)\n",
        "  sgot_standard = mmsc.fit_transform(sgot_array_reshape)\n",
        "\n",
        "  #將以上處理過的資料進行彙整\n",
        "  new_data = pd.concat([dropna_Data.drop(['Gender', 'Alkaline_Phosphotase', 'Alamine_Aminotransferase', 'Aspartate_Aminotransferase'], axis = 1), \n",
        "                        pd.DataFrame(new_gender, columns = ['Male_gender', 'Female_gender']),\n",
        "                        pd.DataFrame(alkphos_standard, columns = ['Alkaline_Phosphotase']), \n",
        "                        pd.DataFrame(sgpt_standard, columns = ['Alamine_Aminotransferase']),\n",
        "                        pd.DataFrame(sgot_standard, columns = ['Aspartate_Aminotransferase'])], axis = 1)\n",
        "  return new_data"
      ],
      "metadata": {
        "id": "F8sYXQ0LR1qT"
      },
      "execution_count": null,
      "outputs": []
    },
    {
      "cell_type": "markdown",
      "source": [
        "## 4. 模型訓練"
      ],
      "metadata": {
        "id": "2x_83btu87Tb"
      }
    },
    {
      "cell_type": "code",
      "source": [
        "#套用前處理的函示\n",
        "new_df = pre_processing(df)\n",
        "\n",
        "#設定X，Y值\n",
        "X = new_df.drop(['Label', 'Total_Protiens', 'Albumin_and_Globulin_Ratio'], axis = 1)\n",
        "y = new_df['Label']\n",
        "\n",
        "#將資料進行分割，分成訓練集和驗證集\n",
        "X_train, X_val, y_train, y_val = train_test_split(X, y, test_size = 0.3, random_state = 0)\n",
        "X"
      ],
      "metadata": {
        "colab": {
          "base_uri": "https://localhost:8080/",
          "height": 468
        },
        "id": "j7K71dakR8vF",
        "outputId": "cce47778-c12b-4365-a447-99feb055b789"
      },
      "execution_count": null,
      "outputs": [
        {
          "output_type": "execute_result",
          "data": {
            "text/plain": [
              "     Age  Total_Bilirubin  Direct_Bilirubin  Albumin  Male_gender  \\\n",
              "0     40              0.9               0.3      3.1          1.0   \n",
              "1     78              1.0               0.3      3.1          0.0   \n",
              "2     60              2.0               0.8      2.8          0.0   \n",
              "3     75             10.6               5.0      1.8          0.0   \n",
              "4     19              0.7               0.2      3.0          1.0   \n",
              "..   ...              ...               ...      ...          ...   \n",
              "458   32              0.7               0.2      2.9          0.0   \n",
              "459   58              0.8               0.2      4.4          0.0   \n",
              "460   34              5.9               2.5      2.7          0.0   \n",
              "461   36              0.8               0.2      3.8          0.0   \n",
              "462   54              2.2               1.2      3.7          0.0   \n",
              "\n",
              "     Female_gender  Alkaline_Phosphotase  Alamine_Aminotransferase  \\\n",
              "0              0.0              0.107125                  0.111558   \n",
              "1              1.0              0.037838                  0.009045   \n",
              "2              1.0              0.056511                  0.017588   \n",
              "3              1.0              0.239312                  0.013568   \n",
              "4              0.0              0.054545                  0.078392   \n",
              "..             ...                   ...                       ...   \n",
              "458            1.0              0.098771                  0.046231   \n",
              "459            1.0              0.051597                  0.011055   \n",
              "460            1.0              0.105651                  0.017588   \n",
              "461            1.0              0.052580                  0.010553   \n",
              "462            1.0              0.058968                  0.022613   \n",
              "\n",
              "     Aspartate_Aminotransferase  \n",
              "0                      0.047774  \n",
              "1                      0.012198  \n",
              "2                      0.006099  \n",
              "3                      0.003863  \n",
              "4                      0.078675  \n",
              "..                          ...  \n",
              "458                    0.036593  \n",
              "459                    0.003049  \n",
              "460                    0.045334  \n",
              "461                    0.004879  \n",
              "462                    0.017280  \n",
              "\n",
              "[463 rows x 9 columns]"
            ],
            "text/html": [
              "\n",
              "  <div id=\"df-cc277cfe-1a2d-44df-a007-1c25c2cfd162\">\n",
              "    <div class=\"colab-df-container\">\n",
              "      <div>\n",
              "<style scoped>\n",
              "    .dataframe tbody tr th:only-of-type {\n",
              "        vertical-align: middle;\n",
              "    }\n",
              "\n",
              "    .dataframe tbody tr th {\n",
              "        vertical-align: top;\n",
              "    }\n",
              "\n",
              "    .dataframe thead th {\n",
              "        text-align: right;\n",
              "    }\n",
              "</style>\n",
              "<table border=\"1\" class=\"dataframe\">\n",
              "  <thead>\n",
              "    <tr style=\"text-align: right;\">\n",
              "      <th></th>\n",
              "      <th>Age</th>\n",
              "      <th>Total_Bilirubin</th>\n",
              "      <th>Direct_Bilirubin</th>\n",
              "      <th>Albumin</th>\n",
              "      <th>Male_gender</th>\n",
              "      <th>Female_gender</th>\n",
              "      <th>Alkaline_Phosphotase</th>\n",
              "      <th>Alamine_Aminotransferase</th>\n",
              "      <th>Aspartate_Aminotransferase</th>\n",
              "    </tr>\n",
              "  </thead>\n",
              "  <tbody>\n",
              "    <tr>\n",
              "      <th>0</th>\n",
              "      <td>40</td>\n",
              "      <td>0.9</td>\n",
              "      <td>0.3</td>\n",
              "      <td>3.1</td>\n",
              "      <td>1.0</td>\n",
              "      <td>0.0</td>\n",
              "      <td>0.107125</td>\n",
              "      <td>0.111558</td>\n",
              "      <td>0.047774</td>\n",
              "    </tr>\n",
              "    <tr>\n",
              "      <th>1</th>\n",
              "      <td>78</td>\n",
              "      <td>1.0</td>\n",
              "      <td>0.3</td>\n",
              "      <td>3.1</td>\n",
              "      <td>0.0</td>\n",
              "      <td>1.0</td>\n",
              "      <td>0.037838</td>\n",
              "      <td>0.009045</td>\n",
              "      <td>0.012198</td>\n",
              "    </tr>\n",
              "    <tr>\n",
              "      <th>2</th>\n",
              "      <td>60</td>\n",
              "      <td>2.0</td>\n",
              "      <td>0.8</td>\n",
              "      <td>2.8</td>\n",
              "      <td>0.0</td>\n",
              "      <td>1.0</td>\n",
              "      <td>0.056511</td>\n",
              "      <td>0.017588</td>\n",
              "      <td>0.006099</td>\n",
              "    </tr>\n",
              "    <tr>\n",
              "      <th>3</th>\n",
              "      <td>75</td>\n",
              "      <td>10.6</td>\n",
              "      <td>5.0</td>\n",
              "      <td>1.8</td>\n",
              "      <td>0.0</td>\n",
              "      <td>1.0</td>\n",
              "      <td>0.239312</td>\n",
              "      <td>0.013568</td>\n",
              "      <td>0.003863</td>\n",
              "    </tr>\n",
              "    <tr>\n",
              "      <th>4</th>\n",
              "      <td>19</td>\n",
              "      <td>0.7</td>\n",
              "      <td>0.2</td>\n",
              "      <td>3.0</td>\n",
              "      <td>1.0</td>\n",
              "      <td>0.0</td>\n",
              "      <td>0.054545</td>\n",
              "      <td>0.078392</td>\n",
              "      <td>0.078675</td>\n",
              "    </tr>\n",
              "    <tr>\n",
              "      <th>...</th>\n",
              "      <td>...</td>\n",
              "      <td>...</td>\n",
              "      <td>...</td>\n",
              "      <td>...</td>\n",
              "      <td>...</td>\n",
              "      <td>...</td>\n",
              "      <td>...</td>\n",
              "      <td>...</td>\n",
              "      <td>...</td>\n",
              "    </tr>\n",
              "    <tr>\n",
              "      <th>458</th>\n",
              "      <td>32</td>\n",
              "      <td>0.7</td>\n",
              "      <td>0.2</td>\n",
              "      <td>2.9</td>\n",
              "      <td>0.0</td>\n",
              "      <td>1.0</td>\n",
              "      <td>0.098771</td>\n",
              "      <td>0.046231</td>\n",
              "      <td>0.036593</td>\n",
              "    </tr>\n",
              "    <tr>\n",
              "      <th>459</th>\n",
              "      <td>58</td>\n",
              "      <td>0.8</td>\n",
              "      <td>0.2</td>\n",
              "      <td>4.4</td>\n",
              "      <td>0.0</td>\n",
              "      <td>1.0</td>\n",
              "      <td>0.051597</td>\n",
              "      <td>0.011055</td>\n",
              "      <td>0.003049</td>\n",
              "    </tr>\n",
              "    <tr>\n",
              "      <th>460</th>\n",
              "      <td>34</td>\n",
              "      <td>5.9</td>\n",
              "      <td>2.5</td>\n",
              "      <td>2.7</td>\n",
              "      <td>0.0</td>\n",
              "      <td>1.0</td>\n",
              "      <td>0.105651</td>\n",
              "      <td>0.017588</td>\n",
              "      <td>0.045334</td>\n",
              "    </tr>\n",
              "    <tr>\n",
              "      <th>461</th>\n",
              "      <td>36</td>\n",
              "      <td>0.8</td>\n",
              "      <td>0.2</td>\n",
              "      <td>3.8</td>\n",
              "      <td>0.0</td>\n",
              "      <td>1.0</td>\n",
              "      <td>0.052580</td>\n",
              "      <td>0.010553</td>\n",
              "      <td>0.004879</td>\n",
              "    </tr>\n",
              "    <tr>\n",
              "      <th>462</th>\n",
              "      <td>54</td>\n",
              "      <td>2.2</td>\n",
              "      <td>1.2</td>\n",
              "      <td>3.7</td>\n",
              "      <td>0.0</td>\n",
              "      <td>1.0</td>\n",
              "      <td>0.058968</td>\n",
              "      <td>0.022613</td>\n",
              "      <td>0.017280</td>\n",
              "    </tr>\n",
              "  </tbody>\n",
              "</table>\n",
              "<p>463 rows × 9 columns</p>\n",
              "</div>\n",
              "      <button class=\"colab-df-convert\" onclick=\"convertToInteractive('df-cc277cfe-1a2d-44df-a007-1c25c2cfd162')\"\n",
              "              title=\"Convert this dataframe to an interactive table.\"\n",
              "              style=\"display:none;\">\n",
              "        \n",
              "  <svg xmlns=\"http://www.w3.org/2000/svg\" height=\"24px\"viewBox=\"0 0 24 24\"\n",
              "       width=\"24px\">\n",
              "    <path d=\"M0 0h24v24H0V0z\" fill=\"none\"/>\n",
              "    <path d=\"M18.56 5.44l.94 2.06.94-2.06 2.06-.94-2.06-.94-.94-2.06-.94 2.06-2.06.94zm-11 1L8.5 8.5l.94-2.06 2.06-.94-2.06-.94L8.5 2.5l-.94 2.06-2.06.94zm10 10l.94 2.06.94-2.06 2.06-.94-2.06-.94-.94-2.06-.94 2.06-2.06.94z\"/><path d=\"M17.41 7.96l-1.37-1.37c-.4-.4-.92-.59-1.43-.59-.52 0-1.04.2-1.43.59L10.3 9.45l-7.72 7.72c-.78.78-.78 2.05 0 2.83L4 21.41c.39.39.9.59 1.41.59.51 0 1.02-.2 1.41-.59l7.78-7.78 2.81-2.81c.8-.78.8-2.07 0-2.86zM5.41 20L4 18.59l7.72-7.72 1.47 1.35L5.41 20z\"/>\n",
              "  </svg>\n",
              "      </button>\n",
              "      \n",
              "  <style>\n",
              "    .colab-df-container {\n",
              "      display:flex;\n",
              "      flex-wrap:wrap;\n",
              "      gap: 12px;\n",
              "    }\n",
              "\n",
              "    .colab-df-convert {\n",
              "      background-color: #E8F0FE;\n",
              "      border: none;\n",
              "      border-radius: 50%;\n",
              "      cursor: pointer;\n",
              "      display: none;\n",
              "      fill: #1967D2;\n",
              "      height: 32px;\n",
              "      padding: 0 0 0 0;\n",
              "      width: 32px;\n",
              "    }\n",
              "\n",
              "    .colab-df-convert:hover {\n",
              "      background-color: #E2EBFA;\n",
              "      box-shadow: 0px 1px 2px rgba(60, 64, 67, 0.3), 0px 1px 3px 1px rgba(60, 64, 67, 0.15);\n",
              "      fill: #174EA6;\n",
              "    }\n",
              "\n",
              "    [theme=dark] .colab-df-convert {\n",
              "      background-color: #3B4455;\n",
              "      fill: #D2E3FC;\n",
              "    }\n",
              "\n",
              "    [theme=dark] .colab-df-convert:hover {\n",
              "      background-color: #434B5C;\n",
              "      box-shadow: 0px 1px 3px 1px rgba(0, 0, 0, 0.15);\n",
              "      filter: drop-shadow(0px 1px 2px rgba(0, 0, 0, 0.3));\n",
              "      fill: #FFFFFF;\n",
              "    }\n",
              "  </style>\n",
              "\n",
              "      <script>\n",
              "        const buttonEl =\n",
              "          document.querySelector('#df-cc277cfe-1a2d-44df-a007-1c25c2cfd162 button.colab-df-convert');\n",
              "        buttonEl.style.display =\n",
              "          google.colab.kernel.accessAllowed ? 'block' : 'none';\n",
              "\n",
              "        async function convertToInteractive(key) {\n",
              "          const element = document.querySelector('#df-cc277cfe-1a2d-44df-a007-1c25c2cfd162');\n",
              "          const dataTable =\n",
              "            await google.colab.kernel.invokeFunction('convertToInteractive',\n",
              "                                                     [key], {});\n",
              "          if (!dataTable) return;\n",
              "\n",
              "          const docLinkHtml = 'Like what you see? Visit the ' +\n",
              "            '<a target=\"_blank\" href=https://colab.research.google.com/notebooks/data_table.ipynb>data table notebook</a>'\n",
              "            + ' to learn more about interactive tables.';\n",
              "          element.innerHTML = '';\n",
              "          dataTable['output_type'] = 'display_data';\n",
              "          await google.colab.output.renderOutput(dataTable, element);\n",
              "          const docLink = document.createElement('div');\n",
              "          docLink.innerHTML = docLinkHtml;\n",
              "          element.appendChild(docLink);\n",
              "        }\n",
              "      </script>\n",
              "    </div>\n",
              "  </div>\n",
              "  "
            ]
          },
          "metadata": {},
          "execution_count": 7
        }
      ]
    },
    {
      "cell_type": "code",
      "source": [
        "#使用決策樹分類器\n",
        "tree = DecisionTreeClassifier()\n",
        "param_grid = {'max_depth' : [3, 4, 5], 'criterion' : ['gini', 'entropy'], 'min_samples_split' : [2, 3, 4, 5], 'min_samples_leaf' : [2, 3, 4, 5]}\n",
        "\n",
        "cv = GridSearchCV(tree, param_grid = param_grid, cv = 10)\n",
        "cv.fit(X_train, y_train)\n",
        "y_pred = cv.predict(X_val)\n",
        "\n",
        "print(classification_report(y_val, y_pred))\n",
        "print(cv.best_params_)"
      ],
      "metadata": {
        "colab": {
          "base_uri": "https://localhost:8080/"
        },
        "id": "ngaEcqgRSDbW",
        "outputId": "62046d1e-0cb0-4af6-bcd5-23050e1e2818"
      },
      "execution_count": null,
      "outputs": [
        {
          "output_type": "stream",
          "name": "stdout",
          "text": [
            "              precision    recall  f1-score   support\n",
            "\n",
            "           0       0.43      0.15      0.23        39\n",
            "           1       0.74      0.92      0.82       100\n",
            "\n",
            "    accuracy                           0.71       139\n",
            "   macro avg       0.58      0.54      0.52       139\n",
            "weighted avg       0.65      0.71      0.65       139\n",
            "\n",
            "{'criterion': 'entropy', 'max_depth': 5, 'min_samples_leaf': 5, 'min_samples_split': 5}\n"
          ]
        }
      ]
    },
    {
      "cell_type": "code",
      "source": [
        "#使用隨機森林分類器\n",
        "forest = RandomForestClassifier()\n",
        "param_grid = {'n_estimators' : [10, 20, 30], 'max_depth' : [4, 5, 6]}\n",
        "\n",
        "cv = GridSearchCV(forest, param_grid = param_grid, cv = 10)\n",
        "cv.fit(X_train, y_train)\n",
        "y_pred = cv.predict(X_validation)\n",
        "\n",
        "print(classification_report(y_validation, y_pred))\n",
        "print(cv.best_params_)"
      ],
      "metadata": {
        "colab": {
          "base_uri": "https://localhost:8080/"
        },
        "id": "VOi8CEaISDy0",
        "outputId": "25fe79cb-bb3c-4379-dc62-548e4c45e4ad"
      },
      "execution_count": null,
      "outputs": [
        {
          "output_type": "stream",
          "name": "stdout",
          "text": [
            "              precision    recall  f1-score   support\n",
            "\n",
            "           0       0.54      0.36      0.43        39\n",
            "           1       0.78      0.88      0.83       100\n",
            "\n",
            "    accuracy                           0.73       139\n",
            "   macro avg       0.66      0.62      0.63       139\n",
            "weighted avg       0.71      0.73      0.72       139\n",
            "\n",
            "{'max_depth': 6, 'n_estimators': 20}\n"
          ]
        }
      ]
    },
    {
      "cell_type": "code",
      "source": [
        "#使用邏輯回歸分類器\n",
        "logreg = LogisticRegression()\n",
        "logreg.fit(X_train, y_train)\n",
        "\n",
        "y_pred = logreg.predict(X_validation)\n",
        "\n",
        "print(classification_report(y_validation, y_pred))"
      ],
      "metadata": {
        "colab": {
          "base_uri": "https://localhost:8080/"
        },
        "id": "YxKC4zK1SfJ_",
        "outputId": "cdd344b5-a3fc-4fc7-cd77-f387556fa9f1"
      },
      "execution_count": null,
      "outputs": [
        {
          "output_type": "stream",
          "name": "stdout",
          "text": [
            "              precision    recall  f1-score   support\n",
            "\n",
            "           0       0.43      0.26      0.32        39\n",
            "           1       0.75      0.87      0.81       100\n",
            "\n",
            "    accuracy                           0.70       139\n",
            "   macro avg       0.59      0.56      0.56       139\n",
            "weighted avg       0.66      0.70      0.67       139\n",
            "\n"
          ]
        }
      ]
    },
    {
      "cell_type": "markdown",
      "source": [
        "## 5. 模型測試"
      ],
      "metadata": {
        "id": "V6viccBISkGf"
      }
    },
    {
      "cell_type": "code",
      "source": [
        "new_df = pre_processing(df)\n",
        "\n",
        "X = new_df.drop(['Label', 'Total_Protiens', 'Albumin_and_Globulin_Ratio'], axis = 1)\n",
        "y = new_df['Label']\n",
        "\n",
        "X_train, X_validation, y_train, y_validation = train_test_split(X, y, test_size = 0.3, random_state = 0)"
      ],
      "metadata": {
        "id": "PJKlEyVxShCM"
      },
      "execution_count": null,
      "outputs": []
    },
    {
      "cell_type": "code",
      "source": [
        "\n",
        "tree = DecisionTreeClassifier()\n",
        "param_grid = {'max_depth' : [3, 4, 5], 'criterion' : ['gini', 'entropy'],\n",
        "              'min_samples_split' : [2, 3, 4, 5],'min_samples_leaf' : [2, 3, 4, 5]}\n",
        "\n",
        "model = GridSearchCV(tree, param_grid = param_grid, cv = 10)\n",
        "model.fit(X_train, y_train)"
      ],
      "metadata": {
        "id": "ZpUbLySWv-9i",
        "colab": {
          "base_uri": "https://localhost:8080/"
        },
        "outputId": "2eaa2969-217f-41e4-8ae8-b5d830c38a90"
      },
      "execution_count": null,
      "outputs": [
        {
          "output_type": "execute_result",
          "data": {
            "text/plain": [
              "GridSearchCV(cv=10, estimator=DecisionTreeClassifier(),\n",
              "             param_grid={'criterion': ['gini', 'entropy'],\n",
              "                         'max_depth': [3, 4, 5],\n",
              "                         'min_samples_leaf': [2, 3, 4, 5],\n",
              "                         'min_samples_split': [2, 3, 4, 5]})"
            ]
          },
          "metadata": {},
          "execution_count": 10
        }
      ]
    },
    {
      "cell_type": "code",
      "source": [
        "'''\n",
        "#使用隨機森林分類器\n",
        "forest = RandomForestClassifier()\n",
        "param_grid = {'n_estimators' : [100, 150, 200], 'max_depth' : [4, 5, 6]}\n",
        "\n",
        "model = GridSearchCV(forest, param_grid = param_grid, cv = 10)\n",
        "model.fit(X_train, y_train)\n",
        "'''"
      ],
      "metadata": {
        "colab": {
          "base_uri": "https://localhost:8080/"
        },
        "id": "i33DLOk5wCpx",
        "outputId": "5792efa6-bde9-4834-dfb2-58e87b7cd42a"
      },
      "execution_count": null,
      "outputs": [
        {
          "output_type": "execute_result",
          "data": {
            "text/plain": [
              "GridSearchCV(cv=10, estimator=RandomForestClassifier(),\n",
              "             param_grid={'max_depth': [4, 5, 6],\n",
              "                         'n_estimators': [100, 150, 200]})"
            ]
          },
          "metadata": {},
          "execution_count": 106
        }
      ]
    },
    {
      "cell_type": "code",
      "source": [
        "x_test = pd.read_csv('project1_test.csv')\n",
        "\n",
        "x_test = pre_processing(x_test)\n",
        "\n",
        "x_test = x_test.drop(['Total_Protiens', 'Albumin_and_Globulin_Ratio'], axis = 1)\n",
        "\n",
        "\n",
        "df_submit = pd.DataFrame([], columns=['Id', 'Category'])\n",
        "df_submit['Id'] = [f'{i:03d}' for i in range(len(x_test))]\n",
        "df_submit['Category'] = model.predict(x_test)"
      ],
      "metadata": {
        "id": "vuXxB43XSnZs"
      },
      "execution_count": null,
      "outputs": []
    },
    {
      "cell_type": "markdown",
      "source": [],
      "metadata": {
        "id": "D9J-hue-v2NG"
      }
    },
    {
      "cell_type": "code",
      "source": [
        "df_submit.to_csv('submission.csv', index=None)"
      ],
      "metadata": {
        "id": "BFInXcblSqkk"
      },
      "execution_count": null,
      "outputs": []
    }
  ]
}